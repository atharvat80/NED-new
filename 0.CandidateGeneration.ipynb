{
 "cells": [
  {
   "cell_type": "code",
   "execution_count": 1,
   "metadata": {},
   "outputs": [],
   "source": [
    "import pandas as pd\n",
    "from tqdm.notebook import tqdm\n",
    "from src.gbrt import prior_prob\n",
    "from src.utils import wikipedia_search, ddg_search, google_kb_search"
   ]
  },
  {
   "cell_type": "code",
   "execution_count": 2,
   "metadata": {},
   "outputs": [],
   "source": [
    "# Get all unique mentions and their tag\n",
    "mentions = []\n",
    "for doc in range(1, 1394):\n",
    "    df = pd.read_csv(f\"./data/aida/candidates/{doc}.csv\")\n",
    "    doc_mentions = df[['mention', 'tag']].drop_duplicates().to_numpy().tolist()\n",
    "    for i in doc_mentions:\n",
    "        if i not in mentions:\n",
    "            mentions.append(i)"
   ]
  },
  {
   "cell_type": "code",
   "execution_count": null,
   "metadata": {},
   "outputs": [],
   "source": [
    "google_kg_results = []\n",
    "ddg_results  = []\n",
    "wiki_results = []\n",
    "comb_results = []\n",
    "for mention, tag in tqdm(mentions):\n",
    "    d_res = ddg_search(mention)\n",
    "    w_res = wikipedia_search(mention, limit=50)\n",
    "    g_res = google_kb_search(mention, limit=50)\n",
    "    c_res = list(dict.fromkeys(d_res + w_res + g_res))\n",
    "    if tag in d_res:\n",
    "        ddg_results.append(d_res.index(tag) + 1)\n",
    "    if tag in w_res:\n",
    "        wiki_results.append(w_res.index(tag) + 1)\n",
    "    if tag in g_res:\n",
    "        google_kg_results.append(g_res.index(tag) + 1)\n",
    "    if tag in c_res:\n",
    "        comb_results.append(c_res.index(tag) + 1)"
   ]
  },
  {
   "cell_type": "code",
   "execution_count": 5,
   "metadata": {},
   "outputs": [
    {
     "name": "stdout",
     "output_type": "stream",
     "text": [
      "Google KG  : 78.83\tavg pos: 2.3195126386615748\n",
      "Wikipedia  : 82.24000000000001\tavg pos: 2.3561094648771133\n",
      "DuckDuckGo : 77.14\tavg pos: 8.15108715852072\n",
      "Combined   : 90.42\tavg pos: 10.57863031071655\n"
     ]
    }
   ],
   "source": [
    "avg = lambda x : sum(x)/len(x)\n",
    "acc = lambda x : round(len(x)/len(mentions), 4) * 100\n",
    "\n",
    "print(f\"Google KG  : {acc(google_kg_results)}\\tavg pos: {avg(google_kg_results)}\")\n",
    "print(f\"Wikipedia  : {acc(wiki_results)     }\\tavg pos: {avg(wiki_results)     }\")\n",
    "print(f\"DuckDuckGo : {acc(ddg_results)      }\\tavg pos: {avg(ddg_results)      }\")\n",
    "print(f\"Combined   : {acc(comb_results)     }\\tavg pos: {avg(comb_results)     }\")"
   ]
  },
  {
   "cell_type": "code",
   "execution_count": 3,
   "metadata": {},
   "outputs": [
    {
     "data": {
      "application/vnd.jupyter.widget-view+json": {
       "model_id": "ea22a9249c98410b826a342403a25945",
       "version_major": 2,
       "version_minor": 0
      },
      "text/plain": [
       "  0%|          | 0/6976 [00:00<?, ?it/s]"
      ]
     },
     "metadata": {},
     "output_type": "display_data"
    },
    {
     "name": "stdout",
     "output_type": "stream",
     "text": [
      "0.8990825688073395\n"
     ]
    }
   ],
   "source": [
    "res = 0\n",
    "unknown = []\n",
    "for mention, tag in tqdm(mentions):\n",
    "    cands = list(prior_prob.get(mention.lower(), {}).keys())\n",
    "    if tag.replace('_', ' ') in cands:\n",
    "        res += 1\n",
    "    else:\n",
    "        unknown.append([mention, tag])\n",
    "\n",
    "print(res/len(mentions))"
   ]
  },
  {
   "cell_type": "code",
   "execution_count": 9,
   "metadata": {},
   "outputs": [
    {
     "data": {
      "application/vnd.jupyter.widget-view+json": {
       "model_id": "b8683f7438284f5181c024d009aae3f0",
       "version_major": 2,
       "version_minor": 0
      },
      "text/plain": [
       "  0%|          | 0/704 [00:00<?, ?it/s]"
      ]
     },
     "metadata": {},
     "output_type": "display_data"
    },
    {
     "name": "stdout",
     "output_type": "stream",
     "text": [
      "Error parsing Oppenheimer Capital LP\n",
      "Error parsing Austria I\n"
     ]
    }
   ],
   "source": [
    "comb_results = []\n",
    "for mention, tag in tqdm(unknown):\n",
    "    d_res = ddg_search(mention)\n",
    "    w_res = wikipedia_search(mention, limit=50)\n",
    "    c_res = list(dict.fromkeys(d_res + w_res))\n",
    "    if tag in c_res:\n",
    "        comb_results.append(c_res.index(tag) + 1)"
   ]
  },
  {
   "cell_type": "code",
   "execution_count": 10,
   "metadata": {},
   "outputs": [
    {
     "name": "stdout",
     "output_type": "stream",
     "text": [
      "Combined   : 65.91\tavg pos: 5.269396551724138\n"
     ]
    }
   ],
   "source": [
    "avg = lambda x : sum(x)/len(x)\n",
    "acc = lambda x : round(len(x)/len(unknown), 4) * 100\n",
    "print(f\"Combined   : {acc(comb_results)     }\\tavg pos: {avg(comb_results)     }\")"
   ]
  },
  {
   "cell_type": "code",
   "execution_count": 11,
   "metadata": {},
   "outputs": [
    {
     "data": {
      "text/plain": [
       "0.9655963302752294"
      ]
     },
     "execution_count": 11,
     "metadata": {},
     "output_type": "execute_result"
    }
   ],
   "source": [
    "(len(comb_results) + res)/len(mentions)"
   ]
  }
 ],
 "metadata": {
  "interpreter": {
   "hash": "45de09fcf3bd2b79f524a4bd8f7de9946892c46adb40c2fbf980884cdce71d86"
  },
  "kernelspec": {
   "display_name": "Python 3.8.12 ('NED')",
   "language": "python",
   "name": "python3"
  },
  "language_info": {
   "codemirror_mode": {
    "name": "ipython",
    "version": 3
   },
   "file_extension": ".py",
   "mimetype": "text/x-python",
   "name": "python",
   "nbconvert_exporter": "python",
   "pygments_lexer": "ipython3",
   "version": "3.8.13"
  },
  "orig_nbformat": 4
 },
 "nbformat": 4,
 "nbformat_minor": 2
}
