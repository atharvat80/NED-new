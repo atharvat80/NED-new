{
 "cells": [
  {
   "cell_type": "code",
   "execution_count": 1,
   "metadata": {},
   "outputs": [],
   "source": [
    "import pandas as pd\n",
    "from tqdm.notebook import tqdm\n",
    "from src.utils import wikipedia_search, google_search"
   ]
  },
  {
   "cell_type": "code",
   "execution_count": 2,
   "metadata": {},
   "outputs": [],
   "source": [
    "# Get all unique mentions and their tag\n",
    "mentions = []\n",
    "for doc in range(1, 1394):\n",
    "    df = pd.read_csv(f\"./data/aida/candidates/{doc}.csv\")\n",
    "    doc_mentions = df[['mention', 'tag']].drop_duplicates().to_numpy().tolist()\n",
    "    for i in doc_mentions:\n",
    "        if i not in mentions:\n",
    "            mentions.append(i)"
   ]
  },
  {
   "cell_type": "code",
   "execution_count": 3,
   "metadata": {},
   "outputs": [
    {
     "data": {
      "application/vnd.jupyter.widget-view+json": {
       "model_id": "57661760af5a40dabd67bac23aaa4eef",
       "version_major": 2,
       "version_minor": 0
      },
      "text/plain": [
       "  0%|          | 0/6976 [00:00<?, ?it/s]"
      ]
     },
     "metadata": {},
     "output_type": "display_data"
    }
   ],
   "source": [
    "google_results = []\n",
    "wiki_results = []\n",
    "combined_results = []\n",
    "for mention, tag in tqdm(mentions):\n",
    "    # g_res = google_search(mention, num_results=10)\n",
    "    w_res = wikipedia_search(mention, num_results=10)\n",
    "    # c_res = list(dict.fromkeys(g_res + w_res))\n",
    "    # if tag in g_res:\n",
    "    #     google_results.append(g_res.index(tag))\n",
    "    if tag in w_res:\n",
    "        wiki_results.append(w_res.index(tag))\n",
    "    # if tag in c_res:\n",
    "    #     combined_results.append(c_res.index(tag))"
   ]
  },
  {
   "cell_type": "code",
   "execution_count": 4,
   "metadata": {},
   "outputs": [
    {
     "name": "stdout",
     "output_type": "stream",
     "text": [
      "Wikipedia: 0.79057, avg pos: 0.5180417044424297\n"
     ]
    }
   ],
   "source": [
    "print(f\"Wikipedia: {round(len(wiki_results)/len(mentions), 5)}, avg pos: {sum(wiki_results)/len(wiki_results)}\")\n",
    "# print(f\"Google :   {round(len(google_results)/len(mentions), 5)}, avg pos: {sum(google_results)/len(google_results)}\")\n",
    "# print(f\"Combined : {round(len(combined_results)/len(mentions), 5)}, avg pos: {sum(_results)/len(google_results)}\")"
   ]
  }
 ],
 "metadata": {
  "interpreter": {
   "hash": "45de09fcf3bd2b79f524a4bd8f7de9946892c46adb40c2fbf980884cdce71d86"
  },
  "kernelspec": {
   "display_name": "Python 3.8.12 ('NED')",
   "language": "python",
   "name": "python3"
  },
  "language_info": {
   "codemirror_mode": {
    "name": "ipython",
    "version": 3
   },
   "file_extension": ".py",
   "mimetype": "text/x-python",
   "name": "python",
   "nbconvert_exporter": "python",
   "pygments_lexer": "ipython3",
   "version": "3.8.12"
  },
  "orig_nbformat": 4
 },
 "nbformat": 4,
 "nbformat_minor": 2
}
