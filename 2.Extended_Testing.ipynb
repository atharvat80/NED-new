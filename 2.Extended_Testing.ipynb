{
 "cells": [
  {
   "cell_type": "markdown",
   "metadata": {},
   "source": [
    "### Setup"
   ]
  },
  {
   "cell_type": "code",
   "execution_count": 1,
   "metadata": {},
   "outputs": [
    {
     "name": "stdout",
     "output_type": "stream",
     "text": [
      "Loading GBRT data files...\n",
      "Done.\n"
     ]
    }
   ],
   "source": [
    "import pandas as pd\n",
    "from src.base import Base\n",
    "from src.gbrt import GBRT\n",
    "from src.utils import test_local, test_global"
   ]
  },
  {
   "cell_type": "code",
   "execution_count": 2,
   "metadata": {},
   "outputs": [],
   "source": [
    "EMB_PATH = \"C:\\\\Personal Files\\\\NED-using-KG\\\\embeddings\\\\\"\n",
    "\n",
    "embs = ['word2vec-google-news-300', 'glove-wiki-gigaword-300',\n",
    "        'fasttext-wiki-news-subwords-300', 'en.wiki.bpe.vs200000.d300.w2v',\n",
    "        'wiki2vec_w10_100d.pkl']"
   ]
  },
  {
   "cell_type": "markdown",
   "metadata": {},
   "source": [
    "## Test Baseline Models"
   ]
  },
  {
   "cell_type": "code",
   "execution_count": 4,
   "metadata": {},
   "outputs": [
    {
     "name": "stderr",
     "output_type": "stream",
     "text": [
      "100%|██████████| 231/231 [05:34<00:00,  1.45s/it]\n"
     ]
    },
    {
     "data": {
      "text/html": [
       "<div>\n",
       "<style scoped>\n",
       "    .dataframe tbody tr th:only-of-type {\n",
       "        vertical-align: middle;\n",
       "    }\n",
       "\n",
       "    .dataframe tbody tr th {\n",
       "        vertical-align: top;\n",
       "    }\n",
       "\n",
       "    .dataframe thead th {\n",
       "        text-align: right;\n",
       "    }\n",
       "</style>\n",
       "<table border=\"1\" class=\"dataframe\">\n",
       "  <thead>\n",
       "    <tr style=\"text-align: right;\">\n",
       "      <th></th>\n",
       "      <th>Embedding</th>\n",
       "      <th>Accuracy (cased)</th>\n",
       "      <th>Accuracy (uncased)</th>\n",
       "    </tr>\n",
       "  </thead>\n",
       "  <tbody>\n",
       "    <tr>\n",
       "      <th>0</th>\n",
       "      <td>word2vec-google-news-300</td>\n",
       "      <td>50.546</td>\n",
       "      <td>44.245</td>\n",
       "    </tr>\n",
       "    <tr>\n",
       "      <th>1</th>\n",
       "      <td>glove-wiki-gigaword-300</td>\n",
       "      <td>27.842</td>\n",
       "      <td>50.158</td>\n",
       "    </tr>\n",
       "    <tr>\n",
       "      <th>2</th>\n",
       "      <td>fasttext-wiki-news-subwords-300</td>\n",
       "      <td>44.597</td>\n",
       "      <td>42.520</td>\n",
       "    </tr>\n",
       "    <tr>\n",
       "      <th>3</th>\n",
       "      <td>en.wiki.bpe.vs200000.d300.w2v</td>\n",
       "      <td>23.126</td>\n",
       "      <td>41.851</td>\n",
       "    </tr>\n",
       "    <tr>\n",
       "      <th>4</th>\n",
       "      <td>wiki2vec_w10_100d</td>\n",
       "      <td>NaN</td>\n",
       "      <td>65.329</td>\n",
       "    </tr>\n",
       "  </tbody>\n",
       "</table>\n",
       "</div>"
      ],
      "text/plain": [
       "                         Embedding  Accuracy (cased)  Accuracy (uncased)\n",
       "0         word2vec-google-news-300            50.546              44.245\n",
       "1          glove-wiki-gigaword-300            27.842              50.158\n",
       "2  fasttext-wiki-news-subwords-300            44.597              42.520\n",
       "3    en.wiki.bpe.vs200000.d300.w2v            23.126              41.851\n",
       "4                wiki2vec_w10_100d               NaN              65.329"
      ]
     },
     "execution_count": 4,
     "metadata": {},
     "output_type": "execute_result"
    }
   ],
   "source": [
    "base_results = []\n",
    "\n",
    "for emb in embs[:-1]:\n",
    "    res = [emb]\n",
    "    model = Base(EMB_PATH + emb)\n",
    "    for case in [True, False]:\n",
    "        model.cased = case\n",
    "        acc, _ = test_local(model)\n",
    "        res.append(acc)\n",
    "    base_results.append(res)\n",
    "\n",
    "acc, _ = test_local(Base(EMB_PATH + embs[-1], is_wiki2vec=True))\n",
    "base_results.append(['wiki2vec_w10_100d', None, acc])\n",
    "\n",
    "res = pd.DataFrame(base_results, columns=['Embedding', 'Accuracy (cased)', 'Accuracy (uncased)'])\n",
    "res"
   ]
  },
  {
   "cell_type": "markdown",
   "metadata": {},
   "source": [
    "## Test GBRT"
   ]
  },
  {
   "cell_type": "code",
   "execution_count": 5,
   "metadata": {},
   "outputs": [
    {
     "name": "stderr",
     "output_type": "stream",
     "text": [
      "100%|██████████| 231/231 [22:11<00:00,  5.76s/it]\n",
      "100%|██████████| 231/231 [08:51<00:00,  2.30s/it]\n",
      "100%|██████████| 231/231 [07:14<00:00,  1.88s/it]\n",
      "100%|██████████| 231/231 [07:20<00:00,  1.91s/it]\n",
      "100%|██████████| 231/231 [07:25<00:00,  1.93s/it]\n"
     ]
    },
    {
     "data": {
      "text/html": [
       "<div>\n",
       "<style scoped>\n",
       "    .dataframe tbody tr th:only-of-type {\n",
       "        vertical-align: middle;\n",
       "    }\n",
       "\n",
       "    .dataframe tbody tr th {\n",
       "        vertical-align: top;\n",
       "    }\n",
       "\n",
       "    .dataframe thead th {\n",
       "        text-align: right;\n",
       "    }\n",
       "</style>\n",
       "<table border=\"1\" class=\"dataframe\">\n",
       "  <thead>\n",
       "    <tr style=\"text-align: right;\">\n",
       "      <th></th>\n",
       "      <th>Model</th>\n",
       "      <th>Accuracy</th>\n",
       "      <th>Mentions Tested</th>\n",
       "    </tr>\n",
       "  </thead>\n",
       "  <tbody>\n",
       "    <tr>\n",
       "      <th>0</th>\n",
       "      <td>base</td>\n",
       "      <td>84.913</td>\n",
       "      <td>3029</td>\n",
       "    </tr>\n",
       "    <tr>\n",
       "      <th>1</th>\n",
       "      <td>string_sim</td>\n",
       "      <td>86.893</td>\n",
       "      <td>3029</td>\n",
       "    </tr>\n",
       "    <tr>\n",
       "      <th>2</th>\n",
       "      <td>context</td>\n",
       "      <td>89.931</td>\n",
       "      <td>3029</td>\n",
       "    </tr>\n",
       "    <tr>\n",
       "      <th>3</th>\n",
       "      <td>coherence</td>\n",
       "      <td>92.671</td>\n",
       "      <td>3029</td>\n",
       "    </tr>\n",
       "    <tr>\n",
       "      <th>4</th>\n",
       "      <td>coherence (two - step)</td>\n",
       "      <td>92.638</td>\n",
       "      <td>3029</td>\n",
       "    </tr>\n",
       "  </tbody>\n",
       "</table>\n",
       "</div>"
      ],
      "text/plain": [
       "                    Model  Accuracy  Mentions Tested\n",
       "0                    base    84.913             3029\n",
       "1              string_sim    86.893             3029\n",
       "2                 context    89.931             3029\n",
       "3               coherence    92.671             3029\n",
       "4  coherence (two - step)    92.638             3029"
      ]
     },
     "execution_count": 5,
     "metadata": {},
     "output_type": "execute_result"
    }
   ],
   "source": [
    "results = []\n",
    "pretrained = ['base.pkl', 'string_sim.pkl', 'context.pkl', 'coherence.pkl']\n",
    "for i in pretrained:\n",
    "    model = GBRT(EMB_PATH + embs[-1], model_path=i, is_wiki2vec=True)\n",
    "    acc, res = test_global(model)\n",
    "    results.append([i[:-4], acc, res.shape[0]])\n",
    "\n",
    "model.two_step = True\n",
    "acc, res = test_global(model)\n",
    "results.append([i[:-4] + ' (two - step)', acc, res.shape[0]])\n",
    "pd.DataFrame(results, columns=['Model', 'Accuracy', 'Mentions Tested'])"
   ]
  },
  {
   "cell_type": "code",
   "execution_count": 8,
   "metadata": {},
   "outputs": [
    {
     "data": {
      "text/html": [
       "<div>\n",
       "<style scoped>\n",
       "    .dataframe tbody tr th:only-of-type {\n",
       "        vertical-align: middle;\n",
       "    }\n",
       "\n",
       "    .dataframe tbody tr th {\n",
       "        vertical-align: top;\n",
       "    }\n",
       "\n",
       "    .dataframe thead th {\n",
       "        text-align: right;\n",
       "    }\n",
       "</style>\n",
       "<table border=\"1\" class=\"dataframe\">\n",
       "  <thead>\n",
       "    <tr style=\"text-align: right;\">\n",
       "      <th></th>\n",
       "      <th>Model</th>\n",
       "      <th>Accuracy</th>\n",
       "    </tr>\n",
       "  </thead>\n",
       "  <tbody>\n",
       "    <tr>\n",
       "      <th>0</th>\n",
       "      <td>word2vec-google-news-300</td>\n",
       "      <td>37.141</td>\n",
       "    </tr>\n",
       "    <tr>\n",
       "      <th>1</th>\n",
       "      <td>glove-wiki-gigaword-300</td>\n",
       "      <td>56.883</td>\n",
       "    </tr>\n",
       "    <tr>\n",
       "      <th>2</th>\n",
       "      <td>fasttext-wiki-news-subwords-300</td>\n",
       "      <td>38.131</td>\n",
       "    </tr>\n",
       "    <tr>\n",
       "      <th>3</th>\n",
       "      <td>en.wiki.bpe.vs200000.d300.w2v</td>\n",
       "      <td>33.278</td>\n",
       "    </tr>\n",
       "  </tbody>\n",
       "</table>\n",
       "</div>"
      ],
      "text/plain": [
       "                             Model  Accuracy\n",
       "0         word2vec-google-news-300    37.141\n",
       "1          glove-wiki-gigaword-300    56.883\n",
       "2  fasttext-wiki-news-subwords-300    38.131\n",
       "3    en.wiki.bpe.vs200000.d300.w2v    33.278"
      ]
     },
     "execution_count": 8,
     "metadata": {},
     "output_type": "execute_result"
    }
   ],
   "source": [
    "results = []\n",
    "pretrained = [i + '_trained.pkl' for i in embs[:-1]]\n",
    "for i in range(len(pretrained)):\n",
    "    print(\"Testing\", pretrained[i])\n",
    "    model = GBRT(EMB_PATH + embs[i], model_path=pretrained[i], )\n",
    "    acc, res = test_global(model)\n",
    "    results.append([embs[i], acc])\n",
    "\n",
    "pd.DataFrame(results, columns=['Model', 'Accuracy'])"
   ]
  }
 ],
 "metadata": {
  "interpreter": {
   "hash": "d3c83394ae731fac5cbf34b5abe7ebcd59fb96b846f104eed2689aeb9dd8ae81"
  },
  "kernelspec": {
   "display_name": "Python 3.8.12 64-bit ('NED-using-KG': conda)",
   "language": "python",
   "name": "python3"
  },
  "language_info": {
   "codemirror_mode": {
    "name": "ipython",
    "version": 3
   },
   "file_extension": ".py",
   "mimetype": "text/x-python",
   "name": "python",
   "nbconvert_exporter": "python",
   "pygments_lexer": "ipython3",
   "version": "3.8.12"
  },
  "orig_nbformat": 4
 },
 "nbformat": 4,
 "nbformat_minor": 2
}
