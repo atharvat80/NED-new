{
 "cells": [
  {
   "cell_type": "markdown",
   "metadata": {},
   "source": [
    "### Setup"
   ]
  },
  {
   "cell_type": "code",
   "execution_count": 4,
   "metadata": {},
   "outputs": [],
   "source": [
    "import pandas as pd\n",
    "from src.base import Base, BaseWiki2Vec\n",
    "from src.gbrt import GBRT, GBRT2\n",
    "from src.utils import test_local, test_global, load_json\n",
    "\n",
    "EMB_PATH = \"C:\\\\Personal Files\\\\NED-using-KG\\\\embeddings\\\\\""
   ]
  },
  {
   "cell_type": "markdown",
   "metadata": {},
   "source": [
    "## Test Baseline Models"
   ]
  },
  {
   "cell_type": "code",
   "execution_count": 2,
   "metadata": {},
   "outputs": [
    {
     "name": "stderr",
     "output_type": "stream",
     "text": [
      "100%|██████████| 231/231 [03:37<00:00,  1.06it/s]\n",
      "100%|██████████| 231/231 [03:45<00:00,  1.02it/s]\n",
      "100%|██████████| 231/231 [02:57<00:00,  1.30it/s]\n",
      "100%|██████████| 231/231 [02:29<00:00,  1.55it/s]\n",
      "100%|██████████| 231/231 [02:48<00:00,  1.37it/s]\n",
      "100%|██████████| 231/231 [02:45<00:00,  1.40it/s]\n",
      "100%|██████████| 231/231 [02:42<00:00,  1.42it/s]\n",
      "100%|██████████| 231/231 [02:43<00:00,  1.42it/s]\n",
      "100%|██████████| 231/231 [01:18<00:00,  2.95it/s]\n"
     ]
    },
    {
     "data": {
      "text/html": [
       "<div>\n",
       "<style scoped>\n",
       "    .dataframe tbody tr th:only-of-type {\n",
       "        vertical-align: middle;\n",
       "    }\n",
       "\n",
       "    .dataframe tbody tr th {\n",
       "        vertical-align: top;\n",
       "    }\n",
       "\n",
       "    .dataframe thead th {\n",
       "        text-align: right;\n",
       "    }\n",
       "</style>\n",
       "<table border=\"1\" class=\"dataframe\">\n",
       "  <thead>\n",
       "    <tr style=\"text-align: right;\">\n",
       "      <th></th>\n",
       "      <th>Embedding</th>\n",
       "      <th>Accuracy (cased)</th>\n",
       "      <th>Accuracy (uncased)</th>\n",
       "    </tr>\n",
       "  </thead>\n",
       "  <tbody>\n",
       "    <tr>\n",
       "      <th>0</th>\n",
       "      <td>word2vec-google-news-300</td>\n",
       "      <td>52.270</td>\n",
       "      <td>46.779</td>\n",
       "    </tr>\n",
       "    <tr>\n",
       "      <th>1</th>\n",
       "      <td>glove-wiki-gigaword-300</td>\n",
       "      <td>43.999</td>\n",
       "      <td>52.024</td>\n",
       "    </tr>\n",
       "    <tr>\n",
       "      <th>2</th>\n",
       "      <td>fasttext-wiki-news-subwords-300</td>\n",
       "      <td>40.655</td>\n",
       "      <td>39.845</td>\n",
       "    </tr>\n",
       "    <tr>\n",
       "      <th>3</th>\n",
       "      <td>en.wiki.bpe.vs200000.d300.w2v</td>\n",
       "      <td>32.981</td>\n",
       "      <td>45.583</td>\n",
       "    </tr>\n",
       "    <tr>\n",
       "      <th>4</th>\n",
       "      <td>wiki2vec_w10_100d</td>\n",
       "      <td>65.153</td>\n",
       "      <td>65.153</td>\n",
       "    </tr>\n",
       "  </tbody>\n",
       "</table>\n",
       "</div>"
      ],
      "text/plain": [
       "                         Embedding  Accuracy (cased)  Accuracy (uncased)\n",
       "0         word2vec-google-news-300            52.270              46.779\n",
       "1          glove-wiki-gigaword-300            43.999              52.024\n",
       "2  fasttext-wiki-news-subwords-300            40.655              39.845\n",
       "3    en.wiki.bpe.vs200000.d300.w2v            32.981              45.583\n",
       "4                wiki2vec_w10_100d            65.153              65.153"
      ]
     },
     "execution_count": 2,
     "metadata": {},
     "output_type": "execute_result"
    }
   ],
   "source": [
    "base_results = []\n",
    "embs = ['word2vec-google-news-300', 'glove-wiki-gigaword-300',\n",
    "        'fasttext-wiki-news-subwords-300', 'en.wiki.bpe.vs200000.d300.w2v']\n",
    "\n",
    "# Normal Baselines\n",
    "for emb in embs:\n",
    "    res = [emb]\n",
    "    model = Base(EMB_PATH + emb)\n",
    "    for case in [True, False]:\n",
    "        model.cased = case\n",
    "        acc, _ = test_local(model)\n",
    "        res.append(acc)\n",
    "    base_results.append(res)\n",
    "\n",
    "# Wikipedia2Vec baseline\n",
    "acc, _ = test_local(BaseWiki2Vec(EMB_PATH + \"wiki2vec_w10_100d.pkl\"))\n",
    "base_results.append(['wiki2vec_w10_100d', None, acc])\n",
    "\n",
    "# Results\n",
    "pd.DataFrame(base_results, columns=['Embedding', 'Accuracy (cased)', 'Accuracy (uncased)'])"
   ]
  },
  {
   "cell_type": "markdown",
   "metadata": {},
   "source": [
    "## Test GBRT (and it's variations)"
   ]
  },
  {
   "cell_type": "code",
   "execution_count": 3,
   "metadata": {},
   "outputs": [
    {
     "name": "stderr",
     "output_type": "stream",
     "text": [
      "100%|██████████| 231/231 [07:49<00:00,  2.03s/it]\n",
      "100%|██████████| 231/231 [07:33<00:00,  1.96s/it]\n",
      "100%|██████████| 231/231 [09:02<00:00,  2.35s/it]\n",
      "100%|██████████| 231/231 [09:16<00:00,  2.41s/it]\n",
      "100%|██████████| 231/231 [07:06<00:00,  1.85s/it]\n"
     ]
    },
    {
     "data": {
      "text/html": [
       "<div>\n",
       "<style scoped>\n",
       "    .dataframe tbody tr th:only-of-type {\n",
       "        vertical-align: middle;\n",
       "    }\n",
       "\n",
       "    .dataframe tbody tr th {\n",
       "        vertical-align: top;\n",
       "    }\n",
       "\n",
       "    .dataframe thead th {\n",
       "        text-align: right;\n",
       "    }\n",
       "</style>\n",
       "<table border=\"1\" class=\"dataframe\">\n",
       "  <thead>\n",
       "    <tr style=\"text-align: right;\">\n",
       "      <th></th>\n",
       "      <th>Model</th>\n",
       "      <th>Accuracy</th>\n",
       "      <th>Mentions Tested</th>\n",
       "    </tr>\n",
       "  </thead>\n",
       "  <tbody>\n",
       "    <tr>\n",
       "      <th>0</th>\n",
       "      <td>base</td>\n",
       "      <td>84.913</td>\n",
       "      <td>3029</td>\n",
       "    </tr>\n",
       "    <tr>\n",
       "      <th>1</th>\n",
       "      <td>string_sim</td>\n",
       "      <td>86.893</td>\n",
       "      <td>3029</td>\n",
       "    </tr>\n",
       "    <tr>\n",
       "      <th>2</th>\n",
       "      <td>context</td>\n",
       "      <td>90.063</td>\n",
       "      <td>3029</td>\n",
       "    </tr>\n",
       "    <tr>\n",
       "      <th>3</th>\n",
       "      <td>coherence</td>\n",
       "      <td>92.803</td>\n",
       "      <td>3029</td>\n",
       "    </tr>\n",
       "    <tr>\n",
       "      <th>4</th>\n",
       "      <td>coherence (two - step)</td>\n",
       "      <td>92.539</td>\n",
       "      <td>3029</td>\n",
       "    </tr>\n",
       "  </tbody>\n",
       "</table>\n",
       "</div>"
      ],
      "text/plain": [
       "                    Model  Accuracy  Mentions Tested\n",
       "0                    base    84.913             3029\n",
       "1              string_sim    86.893             3029\n",
       "2                 context    90.063             3029\n",
       "3               coherence    92.803             3029\n",
       "4  coherence (two - step)    92.539             3029"
      ]
     },
     "execution_count": 3,
     "metadata": {},
     "output_type": "execute_result"
    }
   ],
   "source": [
    "results = []\n",
    "pretrained = ['base.pkl', 'string_sim.pkl', 'context.pkl', 'coherence.pkl']\n",
    "for i in pretrained:\n",
    "    model = GBRT(EMB_PATH + \"wiki2vec_w10_100d.pkl\", model_path=i)\n",
    "    acc, res = test_global(model)\n",
    "    results.append([i[:-4], acc, res.shape[0]])\n",
    "\n",
    "model.two_step = True\n",
    "acc, res = test_global(model)\n",
    "results.append([i[:-4] + ' (two - step)', acc, res.shape[0]])\n",
    "pd.DataFrame(results, columns=['Model', 'Accuracy', 'Mentions Tested'])"
   ]
  },
  {
   "cell_type": "code",
   "execution_count": 3,
   "metadata": {},
   "outputs": [
    {
     "data": {
      "application/vnd.jupyter.widget-view+json": {
       "model_id": "8a1cc8f9dd29488db78465e4efb49ee7",
       "version_major": 2,
       "version_minor": 0
      },
      "text/plain": [
       "  0%|          | 0/231 [00:00<?, ?it/s]"
      ]
     },
     "metadata": {},
     "output_type": "display_data"
    },
    {
     "name": "stdout",
     "output_type": "stream",
     "text": [
      "wiki2vec_w10_100d.pkl 92.803\n"
     ]
    },
    {
     "data": {
      "application/vnd.jupyter.widget-view+json": {
       "model_id": "20b15835cb924ae5aa344032168cc3ae",
       "version_major": 2,
       "version_minor": 0
      },
      "text/plain": [
       "  0%|          | 0/231 [00:00<?, ?it/s]"
      ]
     },
     "metadata": {},
     "output_type": "display_data"
    },
    {
     "name": "stdout",
     "output_type": "stream",
     "text": [
      "wiki2vec_w10_300d.pkl 92.044\n"
     ]
    }
   ],
   "source": [
    "embs = [f\"wiki2vec_w10_{i}d.pkl\" for i in [100, 300]]\n",
    "for emb in embs:\n",
    "    model = GBRT(EMB_PATH + emb, model_path=f\"{emb}_trained.pkl\")\n",
    "    acc, _ = test_global(model)\n",
    "    print(emb, acc)"
   ]
  },
  {
   "cell_type": "code",
   "execution_count": 5,
   "metadata": {},
   "outputs": [
    {
     "data": {
      "application/vnd.jupyter.widget-view+json": {
       "model_id": "5358402a89c8409ba52efb7c5727b16d",
       "version_major": 2,
       "version_minor": 0
      },
      "text/plain": [
       "  0%|          | 0/231 [00:00<?, ?it/s]"
      ]
     },
     "metadata": {},
     "output_type": "display_data"
    },
    {
     "data": {
      "text/plain": [
       "89.997"
      ]
     },
     "execution_count": 5,
     "metadata": {},
     "output_type": "execute_result"
    }
   ],
   "source": [
    "model = GBRT2(EMB_PATH + 'glove-wiki-gigaword-300', model_path=\"glove-wiki-gigaword-300_trained.pkl\")\n",
    "model.entity_desc_dict = load_json(\"C:\\\\Personal Files\\\\NED-using-KG\\\\data\\\\aida\\\\entities.json\")\n",
    "acc, res = test_global(model, is_wiki2vec=False)\n",
    "acc"
   ]
  }
 ],
 "metadata": {
  "interpreter": {
   "hash": "d3c83394ae731fac5cbf34b5abe7ebcd59fb96b846f104eed2689aeb9dd8ae81"
  },
  "kernelspec": {
   "display_name": "Python 3.8.12 64-bit ('NED-using-KG': conda)",
   "language": "python",
   "name": "python3"
  },
  "language_info": {
   "codemirror_mode": {
    "name": "ipython",
    "version": 3
   },
   "file_extension": ".py",
   "mimetype": "text/x-python",
   "name": "python",
   "nbconvert_exporter": "python",
   "pygments_lexer": "ipython3",
   "version": "3.8.12"
  },
  "orig_nbformat": 4
 },
 "nbformat": 4,
 "nbformat_minor": 2
}
