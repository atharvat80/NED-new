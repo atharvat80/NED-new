{
    "cells": [
        {
            "cell_type": "markdown",
            "metadata": {},
            "source": [
                "### Setup"
            ]
        },
        {
            "cell_type": "code",
            "execution_count": 1,
            "metadata": {},
            "outputs": [],
            "source": [
                "import gc\n",
                "import os\n",
                "import pandas as pd\n",
                "\n",
                "from src.base import Base\n",
                "from src.gbrt import GBRT\n",
                "from src.transformer import BaseTRF, GBRT_TRF\n",
                "from src.utils import load_pickle\n",
                "from test import aida_global, aida_local"
            ]
        },
        {
            "cell_type": "code",
            "execution_count": 3,
            "metadata": {},
            "outputs": [],
            "source": [
                "EMB_PATH = os.path.join(os.getcwd(), 'embeddings')\n",
                "\n",
                "embs  = [\"wiki2vec_w10_100d.pkl\", \"word2vec-google-news-300\",\n",
                "         \"glove-wiki-gigaword-300\", \"fasttext-wiki-news-subwords-300\"]\n",
                "\n",
                "entities = load_pickle('./data/aida/entities.pkl')\n",
                "entities_filtered = load_pickle('./data/aida/entities_filtered.pkl')\n",
                "entities_full = load_pickle('./data/aida/entities_full.pkl')"
            ]
        },
        {
            "cell_type": "markdown",
            "metadata": {},
            "source": [
                "## Test Baseline Models"
            ]
        },
        {
            "cell_type": "markdown",
            "metadata": {},
            "source": [
                "### Local Context\n",
                "\n",
                "Investigate the effects of cased vs uncased"
            ]
        },
        {
            "cell_type": "code",
            "execution_count": 3,
            "metadata": {},
            "outputs": [
                {
                    "name": "stderr",
                    "output_type": "stream",
                    "text": [
                        "100%|██████████| 231/231 [01:19<00:00,  2.90it/s]\n",
                        "100%|██████████| 231/231 [01:20<00:00,  2.85it/s]\n",
                        "100%|██████████| 231/231 [01:22<00:00,  2.81it/s]\n",
                        "100%|██████████| 231/231 [01:21<00:00,  2.83it/s]\n",
                        "100%|██████████| 231/231 [01:26<00:00,  2.66it/s]\n",
                        "100%|██████████| 231/231 [01:14<00:00,  3.11it/s]\n",
                        "100%|██████████| 231/231 [01:00<00:00,  3.85it/s]\n",
                        "100%|██████████| 231/231 [18:41<00:00,  4.86s/it]\n"
                    ]
                },
                {
                    "data": {
                        "text/html": [
                            "<div>\n",
                            "<style scoped>\n",
                            "    .dataframe tbody tr th:only-of-type {\n",
                            "        vertical-align: middle;\n",
                            "    }\n",
                            "\n",
                            "    .dataframe tbody tr th {\n",
                            "        vertical-align: top;\n",
                            "    }\n",
                            "\n",
                            "    .dataframe thead th {\n",
                            "        text-align: right;\n",
                            "    }\n",
                            "</style>\n",
                            "<table border=\"1\" class=\"dataframe\">\n",
                            "  <thead>\n",
                            "    <tr style=\"text-align: right;\">\n",
                            "      <th></th>\n",
                            "      <th>Embedding</th>\n",
                            "      <th>Accuracy (cased)</th>\n",
                            "      <th>Accuracy (uncased)</th>\n",
                            "    </tr>\n",
                            "  </thead>\n",
                            "  <tbody>\n",
                            "    <tr>\n",
                            "      <th>0</th>\n",
                            "      <td>word2vec-google-news-300</td>\n",
                            "      <td>51.461</td>\n",
                            "      <td>44.808</td>\n",
                            "    </tr>\n",
                            "    <tr>\n",
                            "      <th>1</th>\n",
                            "      <td>glove-wiki-gigaword-300</td>\n",
                            "      <td>51.566</td>\n",
                            "      <td>51.285</td>\n",
                            "    </tr>\n",
                            "    <tr>\n",
                            "      <th>2</th>\n",
                            "      <td>fasttext-wiki-news-subwords-300</td>\n",
                            "      <td>43.647</td>\n",
                            "      <td>42.344</td>\n",
                            "    </tr>\n",
                            "    <tr>\n",
                            "      <th>3</th>\n",
                            "      <td>wiki2vec_w10_100d.pkl</td>\n",
                            "      <td>NaN</td>\n",
                            "      <td>65.118</td>\n",
                            "    </tr>\n",
                            "    <tr>\n",
                            "      <th>4</th>\n",
                            "      <td>Transformer Base</td>\n",
                            "      <td>52.165</td>\n",
                            "      <td>NaN</td>\n",
                            "    </tr>\n",
                            "  </tbody>\n",
                            "</table>\n",
                            "</div>"
                        ],
                        "text/plain": [
                            "                         Embedding  Accuracy (cased)  Accuracy (uncased)\n",
                            "0         word2vec-google-news-300            51.461              44.808\n",
                            "1          glove-wiki-gigaword-300            51.566              51.285\n",
                            "2  fasttext-wiki-news-subwords-300            43.647              42.344\n",
                            "3            wiki2vec_w10_100d.pkl               NaN              65.118\n",
                            "4                 Transformer Base            52.165                 NaN"
                        ]
                    },
                    "execution_count": 3,
                    "metadata": {},
                    "output_type": "execute_result"
                }
            ],
            "source": [
                "results = []\n",
                "for emb in embs[1:]:\n",
                "    res = [emb]\n",
                "    model = Base(os.path.join(EMB_PATH, emb))\n",
                "    model.entity_desc_dict = entities\n",
                "    for case in [True, False]:\n",
                "        model.cased = case\n",
                "        acc, _ = aida_local(model)\n",
                "        res.append(acc)\n",
                "    results.append(res)\n",
                "    model = None\n",
                "    gc.collect()\n",
                "\n",
                "# Wikipedia2Vec 100D\n",
                "acc, _ = aida_local(Base(os.path.join(EMB_PATH, embs[0])))\n",
                "results.append([embs[0], None, acc])\n",
                "\n",
                "# Transformer\n",
                "model = BaseTRF()\n",
                "model.entity_desc_dict = entities\n",
                "acc, _ = aida_local(model)\n",
                "results.append(['Transformer Base', acc, None])\n",
                "\n",
                "# Results\n",
                "pd.DataFrame(results, columns=['Embedding', 'Accuracy (cased)', 'Accuracy (uncased)'])"
            ]
        },
        {
            "cell_type": "markdown",
            "metadata": {},
            "source": [
                "Investigate the effects of keeping nouns only"
            ]
        },
        {
            "cell_type": "code",
            "execution_count": 4,
            "metadata": {},
            "outputs": [
                {
                    "name": "stderr",
                    "output_type": "stream",
                    "text": [
                        "100%|██████████| 231/231 [01:06<00:00,  3.46it/s]\n",
                        "100%|██████████| 231/231 [02:33<00:00,  1.51it/s]\n",
                        "100%|██████████| 231/231 [02:28<00:00,  1.56it/s]\n",
                        "100%|██████████| 231/231 [02:46<00:00,  1.39it/s]\n"
                    ]
                },
                {
                    "data": {
                        "text/html": [
                            "<div>\n",
                            "<style scoped>\n",
                            "    .dataframe tbody tr th:only-of-type {\n",
                            "        vertical-align: middle;\n",
                            "    }\n",
                            "\n",
                            "    .dataframe tbody tr th {\n",
                            "        vertical-align: top;\n",
                            "    }\n",
                            "\n",
                            "    .dataframe thead th {\n",
                            "        text-align: right;\n",
                            "    }\n",
                            "</style>\n",
                            "<table border=\"1\" class=\"dataframe\">\n",
                            "  <thead>\n",
                            "    <tr style=\"text-align: right;\">\n",
                            "      <th></th>\n",
                            "      <th>Embedding</th>\n",
                            "      <th>Accuracy (Nouns Only)</th>\n",
                            "    </tr>\n",
                            "  </thead>\n",
                            "  <tbody>\n",
                            "    <tr>\n",
                            "      <th>0</th>\n",
                            "      <td>wiki2vec_w10_100d.pkl</td>\n",
                            "      <td>62.619</td>\n",
                            "    </tr>\n",
                            "    <tr>\n",
                            "      <th>1</th>\n",
                            "      <td>word2vec-google-news-300</td>\n",
                            "      <td>51.109</td>\n",
                            "    </tr>\n",
                            "    <tr>\n",
                            "      <th>2</th>\n",
                            "      <td>glove-wiki-gigaword-300</td>\n",
                            "      <td>49.243</td>\n",
                            "    </tr>\n",
                            "    <tr>\n",
                            "      <th>3</th>\n",
                            "      <td>fasttext-wiki-news-subwords-300</td>\n",
                            "      <td>45.759</td>\n",
                            "    </tr>\n",
                            "  </tbody>\n",
                            "</table>\n",
                            "</div>"
                        ],
                        "text/plain": [
                            "                         Embedding  Accuracy (Nouns Only)\n",
                            "0            wiki2vec_w10_100d.pkl                 62.619\n",
                            "1         word2vec-google-news-300                 51.109\n",
                            "2          glove-wiki-gigaword-300                 49.243\n",
                            "3  fasttext-wiki-news-subwords-300                 45.759"
                        ]
                    },
                    "execution_count": 4,
                    "metadata": {},
                    "output_type": "execute_result"
                }
            ],
            "source": [
                "results = []\n",
                "for emb in embs:\n",
                "    model = Base(os.path.join(EMB_PATH, emb), nouns_only=True,\n",
                "                 cased=(emb in [embs[1], embs[3]]))\n",
                "    model.entity_desc_dict = entities\n",
                "    acc, _ = aida_local(model)\n",
                "    results.append([emb, acc])\n",
                "    model = None\n",
                "    gc.collect()\n",
                "\n",
                "# Results\n",
                "pd.DataFrame(results, columns=['Embedding', 'Accuracy (Nouns Only)'])"
            ]
        },
        {
            "cell_type": "markdown",
            "metadata": {},
            "source": [
                "### Global Context"
            ]
        },
        {
            "cell_type": "code",
            "execution_count": 5,
            "metadata": {},
            "outputs": [
                {
                    "name": "stderr",
                    "output_type": "stream",
                    "text": [
                        "100%|██████████| 231/231 [00:19<00:00, 12.00it/s]\n",
                        "100%|██████████| 231/231 [00:41<00:00,  5.54it/s]\n",
                        "100%|██████████| 231/231 [00:31<00:00,  7.35it/s]\n",
                        "100%|██████████| 231/231 [00:29<00:00,  7.77it/s]\n",
                        "100%|██████████| 231/231 [22:26<00:00,  5.83s/it] \n"
                    ]
                },
                {
                    "data": {
                        "text/html": [
                            "<div>\n",
                            "<style scoped>\n",
                            "    .dataframe tbody tr th:only-of-type {\n",
                            "        vertical-align: middle;\n",
                            "    }\n",
                            "\n",
                            "    .dataframe tbody tr th {\n",
                            "        vertical-align: top;\n",
                            "    }\n",
                            "\n",
                            "    .dataframe thead th {\n",
                            "        text-align: right;\n",
                            "    }\n",
                            "</style>\n",
                            "<table border=\"1\" class=\"dataframe\">\n",
                            "  <thead>\n",
                            "    <tr style=\"text-align: right;\">\n",
                            "      <th></th>\n",
                            "      <th>Embedding</th>\n",
                            "      <th>Accuracy (Context = Whole Document)</th>\n",
                            "    </tr>\n",
                            "  </thead>\n",
                            "  <tbody>\n",
                            "    <tr>\n",
                            "      <th>0</th>\n",
                            "      <td>wiki2vec_w10_100d.pkl</td>\n",
                            "      <td>57.709</td>\n",
                            "    </tr>\n",
                            "    <tr>\n",
                            "      <th>1</th>\n",
                            "      <td>word2vec-google-news-300</td>\n",
                            "      <td>57.214</td>\n",
                            "    </tr>\n",
                            "    <tr>\n",
                            "      <th>2</th>\n",
                            "      <td>glove-wiki-gigaword-300</td>\n",
                            "      <td>56.850</td>\n",
                            "    </tr>\n",
                            "    <tr>\n",
                            "      <th>3</th>\n",
                            "      <td>fasttext-wiki-news-subwords-300</td>\n",
                            "      <td>41.334</td>\n",
                            "    </tr>\n",
                            "    <tr>\n",
                            "      <th>4</th>\n",
                            "      <td>Transformer Base</td>\n",
                            "      <td>57.115</td>\n",
                            "    </tr>\n",
                            "  </tbody>\n",
                            "</table>\n",
                            "</div>"
                        ],
                        "text/plain": [
                            "                         Embedding  Accuracy (Context = Whole Document)\n",
                            "0            wiki2vec_w10_100d.pkl                               57.709\n",
                            "1         word2vec-google-news-300                               57.214\n",
                            "2          glove-wiki-gigaword-300                               56.850\n",
                            "3  fasttext-wiki-news-subwords-300                               41.334\n",
                            "4                 Transformer Base                               57.115"
                        ]
                    },
                    "execution_count": 5,
                    "metadata": {},
                    "output_type": "execute_result"
                }
            ],
            "source": [
                "results = []\n",
                "for emb in embs:\n",
                "    model = Base(os.path.join(EMB_PATH, emb), cased=(emb in [embs[1], embs[3]]))\n",
                "    model.entity_desc_dict = entities\n",
                "    acc, _ = aida_local(model, use_document=True)\n",
                "    results.append([emb, acc])\n",
                "    model = None\n",
                "    gc.collect()\n",
                "\n",
                "# Transformer\n",
                "model = BaseTRF()\n",
                "model.entity_desc_dict = entities\n",
                "acc, _ = aida_local(model, use_document=True)\n",
                "results.append(['Transformer Base', acc])\n",
                "\n",
                "# Results\n",
                "pd.DataFrame(results, columns=['Embedding', 'Accuracy (Context = Whole Document)'])"
            ]
        },
        {
            "cell_type": "markdown",
            "metadata": {},
            "source": [
                "Investigating the effects of using global context with nouns only and using whole wikipedia page to encode an entity"
            ]
        },
        {
            "cell_type": "code",
            "execution_count": 6,
            "metadata": {},
            "outputs": [
                {
                    "name": "stderr",
                    "output_type": "stream",
                    "text": [
                        "100%|██████████| 231/231 [21:31<00:00,  5.59s/it]\n",
                        "100%|██████████| 231/231 [18:05<00:00,  4.70s/it]\n",
                        "100%|██████████| 231/231 [20:00<00:00,  5.20s/it]\n"
                    ]
                },
                {
                    "data": {
                        "text/html": [
                            "<div>\n",
                            "<style scoped>\n",
                            "    .dataframe tbody tr th:only-of-type {\n",
                            "        vertical-align: middle;\n",
                            "    }\n",
                            "\n",
                            "    .dataframe tbody tr th {\n",
                            "        vertical-align: top;\n",
                            "    }\n",
                            "\n",
                            "    .dataframe thead th {\n",
                            "        text-align: right;\n",
                            "    }\n",
                            "</style>\n",
                            "<table border=\"1\" class=\"dataframe\">\n",
                            "  <thead>\n",
                            "    <tr style=\"text-align: right;\">\n",
                            "      <th></th>\n",
                            "      <th>Embedding</th>\n",
                            "      <th>Accuracy (Nouns Only, whole document, full desc)</th>\n",
                            "    </tr>\n",
                            "  </thead>\n",
                            "  <tbody>\n",
                            "    <tr>\n",
                            "      <th>0</th>\n",
                            "      <td>word2vec-google-news-300</td>\n",
                            "      <td>69.660</td>\n",
                            "    </tr>\n",
                            "    <tr>\n",
                            "      <th>1</th>\n",
                            "      <td>glove-wiki-gigaword-300</td>\n",
                            "      <td>63.123</td>\n",
                            "    </tr>\n",
                            "    <tr>\n",
                            "      <th>2</th>\n",
                            "      <td>fasttext-wiki-news-subwords-300</td>\n",
                            "      <td>57.016</td>\n",
                            "    </tr>\n",
                            "  </tbody>\n",
                            "</table>\n",
                            "</div>"
                        ],
                        "text/plain": [
                            "                         Embedding  \\\n",
                            "0         word2vec-google-news-300   \n",
                            "1          glove-wiki-gigaword-300   \n",
                            "2  fasttext-wiki-news-subwords-300   \n",
                            "\n",
                            "   Accuracy (Nouns Only, whole document, full desc)  \n",
                            "0                                            69.660  \n",
                            "1                                            63.123  \n",
                            "2                                            57.016  "
                        ]
                    },
                    "execution_count": 6,
                    "metadata": {},
                    "output_type": "execute_result"
                }
            ],
            "source": [
                "results = []\n",
                "for emb in embs[1:]:\n",
                "    model = Base(os.path.join(EMB_PATH, emb), nouns_only=True,\n",
                "                 cased=(emb in [embs[1], embs[3]]))\n",
                "    model.entity_desc_dict = entities_filtered\n",
                "    acc, _ = aida_local(model, use_document=True)\n",
                "    results.append([emb, acc])\n",
                "    model = None\n",
                "    gc.collect()\n",
                "\n",
                "# Results\n",
                "pd.DataFrame(results, columns=['Embedding', 'Accuracy (Nouns Only, whole document, full desc)'])"
            ]
        },
        {
            "cell_type": "code",
            "execution_count": 5,
            "metadata": {},
            "outputs": [
                {
                    "name": "stderr",
                    "output_type": "stream",
                    "text": [
                        "100%|██████████| 231/231 [1:21:44<00:00, 21.23s/it]"
                    ]
                },
                {
                    "name": "stdout",
                    "output_type": "stream",
                    "text": [
                        "Accuracy: 57.214\n"
                    ]
                },
                {
                    "name": "stderr",
                    "output_type": "stream",
                    "text": [
                        "\n"
                    ]
                }
            ],
            "source": [
                "model = BaseTRF()\n",
                "model.entity_desc_dict = entities_full\n",
                "acc, _ = aida_local(model, use_document=True)\n",
                "print(\"Accuracy:\", acc)"
            ]
        },
        {
            "cell_type": "markdown",
            "metadata": {},
            "source": [
                "## Test GBRT (and it's variations)"
            ]
        },
        {
            "cell_type": "code",
            "execution_count": 7,
            "metadata": {},
            "outputs": [
                {
                    "name": "stderr",
                    "output_type": "stream",
                    "text": [
                        "100%|██████████| 231/231 [03:49<00:00,  1.01it/s]\n",
                        "100%|██████████| 231/231 [03:18<00:00,  1.16it/s]\n",
                        "100%|██████████| 231/231 [03:56<00:00,  1.02s/it]\n"
                    ]
                },
                {
                    "data": {
                        "text/html": [
                            "<div>\n",
                            "<style scoped>\n",
                            "    .dataframe tbody tr th:only-of-type {\n",
                            "        vertical-align: middle;\n",
                            "    }\n",
                            "\n",
                            "    .dataframe tbody tr th {\n",
                            "        vertical-align: top;\n",
                            "    }\n",
                            "\n",
                            "    .dataframe thead th {\n",
                            "        text-align: right;\n",
                            "    }\n",
                            "</style>\n",
                            "<table border=\"1\" class=\"dataframe\">\n",
                            "  <thead>\n",
                            "    <tr style=\"text-align: right;\">\n",
                            "      <th></th>\n",
                            "      <th>Model</th>\n",
                            "      <th>Accuracy</th>\n",
                            "    </tr>\n",
                            "  </thead>\n",
                            "  <tbody>\n",
                            "    <tr>\n",
                            "      <th>0</th>\n",
                            "      <td>base</td>\n",
                            "      <td>84.913</td>\n",
                            "    </tr>\n",
                            "    <tr>\n",
                            "      <th>1</th>\n",
                            "      <td>string_sim</td>\n",
                            "      <td>86.794</td>\n",
                            "    </tr>\n",
                            "    <tr>\n",
                            "      <th>2</th>\n",
                            "      <td>context</td>\n",
                            "      <td>89.435</td>\n",
                            "    </tr>\n",
                            "  </tbody>\n",
                            "</table>\n",
                            "</div>"
                        ],
                        "text/plain": [
                            "        Model  Accuracy\n",
                            "0        base    84.913\n",
                            "1  string_sim    86.794\n",
                            "2     context    89.435"
                        ]
                    },
                    "execution_count": 7,
                    "metadata": {},
                    "output_type": "execute_result"
                }
            ],
            "source": [
                "results = []\n",
                "pretrained = ['base.pkl', 'string_sim.pkl', 'context.pkl']\n",
                "for i in pretrained:\n",
                "    model = GBRT(os.path.join(EMB_PATH, embs[0]), model_path=i)\n",
                "    acc, res = aida_global(model)\n",
                "    results.append([i[:-4], acc])\n",
                "    model = None\n",
                "    gc.collect()\n",
                "\n",
                "pd.DataFrame(results, columns=['Model', 'Accuracy'])"
            ]
        },
        {
            "cell_type": "code",
            "execution_count": 10,
            "metadata": {},
            "outputs": [
                {
                    "name": "stderr",
                    "output_type": "stream",
                    "text": [
                        "100%|██████████| 231/231 [03:56<00:00,  1.02s/it]\n",
                        "100%|██████████| 231/231 [03:24<00:00,  1.13it/s]\n",
                        "100%|██████████| 231/231 [04:06<00:00,  1.07s/it]\n",
                        "100%|██████████| 231/231 [04:05<00:00,  1.06s/it]\n",
                        "100%|██████████| 231/231 [03:38<00:00,  1.06it/s]\n",
                        "100%|██████████| 231/231 [03:13<00:00,  1.19it/s]\n",
                        "100%|██████████| 231/231 [20:06<00:00,  5.22s/it]\n",
                        "100%|██████████| 231/231 [24:46<00:00,  6.43s/it] \n",
                        "100%|██████████| 231/231 [24:23<00:00,  6.34s/it]\n",
                        "100%|██████████| 231/231 [43:51<00:00, 11.39s/it] \n",
                        "100%|██████████| 231/231 [31:09<00:00,  8.09s/it] \n",
                        "100%|██████████| 231/231 [36:28<00:00,  9.47s/it] \n"
                    ]
                },
                {
                    "data": {
                        "text/html": [
                            "<div>\n",
                            "<style scoped>\n",
                            "    .dataframe tbody tr th:only-of-type {\n",
                            "        vertical-align: middle;\n",
                            "    }\n",
                            "\n",
                            "    .dataframe tbody tr th {\n",
                            "        vertical-align: top;\n",
                            "    }\n",
                            "\n",
                            "    .dataframe thead th {\n",
                            "        text-align: right;\n",
                            "    }\n",
                            "</style>\n",
                            "<table border=\"1\" class=\"dataframe\">\n",
                            "  <thead>\n",
                            "    <tr style=\"text-align: right;\">\n",
                            "      <th></th>\n",
                            "      <th>Model</th>\n",
                            "      <th>Accuracy</th>\n",
                            "      <th>Accuracy (with two-step)</th>\n",
                            "    </tr>\n",
                            "  </thead>\n",
                            "  <tbody>\n",
                            "    <tr>\n",
                            "      <th>0</th>\n",
                            "      <td>wiki2vec_w10_100d.pkl</td>\n",
                            "      <td>92.242</td>\n",
                            "      <td>92.473</td>\n",
                            "    </tr>\n",
                            "    <tr>\n",
                            "      <th>1</th>\n",
                            "      <td>wiki2vec_w10_300d.pkl</td>\n",
                            "      <td>91.548</td>\n",
                            "      <td>91.515</td>\n",
                            "    </tr>\n",
                            "    <tr>\n",
                            "      <th>2</th>\n",
                            "      <td>wiki2vec_w10_300d.pkl</td>\n",
                            "      <td>91.548</td>\n",
                            "      <td>91.515</td>\n",
                            "    </tr>\n",
                            "    <tr>\n",
                            "      <th>3</th>\n",
                            "      <td>word2vec-google-news-300</td>\n",
                            "      <td>89.072</td>\n",
                            "      <td>89.138</td>\n",
                            "    </tr>\n",
                            "    <tr>\n",
                            "      <th>4</th>\n",
                            "      <td>glove-wiki-gigaword-300</td>\n",
                            "      <td>90.723</td>\n",
                            "      <td>90.096</td>\n",
                            "    </tr>\n",
                            "    <tr>\n",
                            "      <th>5</th>\n",
                            "      <td>fasttext-wiki-news-subwords-300</td>\n",
                            "      <td>89.204</td>\n",
                            "      <td>89.369</td>\n",
                            "    </tr>\n",
                            "  </tbody>\n",
                            "</table>\n",
                            "</div>"
                        ],
                        "text/plain": [
                            "                             Model  Accuracy  Accuracy (with two-step)\n",
                            "0            wiki2vec_w10_100d.pkl    92.242                    92.473\n",
                            "1            wiki2vec_w10_300d.pkl    91.548                    91.515\n",
                            "2            wiki2vec_w10_300d.pkl    91.548                    91.515\n",
                            "3         word2vec-google-news-300    89.072                    89.138\n",
                            "4          glove-wiki-gigaword-300    90.723                    90.096\n",
                            "5  fasttext-wiki-news-subwords-300    89.204                    89.369"
                        ]
                    },
                    "execution_count": 10,
                    "metadata": {},
                    "output_type": "execute_result"
                }
            ],
            "source": [
                "embs.insert(1, 'wiki2vec_w10_300d.pkl')\n",
                "\n",
                "results = []\n",
                "for emb in embs:\n",
                "    model = GBRT(os.path.join(EMB_PATH, emb), model_path=f\"{emb}_trained.pkl\",\n",
                "                 cased=(emb in [embs[2], embs[4]]))\n",
                "    model.entity_desc_dict = entities_filtered\n",
                "    res = []\n",
                "    for x in [False, True]:\n",
                "        model.two_step = x\n",
                "        acc, _ = aida_global(model)\n",
                "        res.append(acc)\n",
                "    results.append([emb, *res])\n",
                "    model = None\n",
                "    gc.collect()\n",
                "    \n",
                "pd.DataFrame(results, columns=['Model', 'Accuracy', 'Accuracy (with two-step)'])"
            ]
        },
        {
            "cell_type": "code",
            "execution_count": 7,
            "metadata": {},
            "outputs": [
                {
                    "name": "stdout",
                    "output_type": "stream",
                    "text": [
                        "Transformer GBRT\n",
                        "Accuracy\t\t89.601\n",
                        "Accuracy (two-step)\t89.634\n"
                    ]
                }
            ],
            "source": [
                "model = GBRT_TRF(ranker_path=\"TRF_trained.pkl\")\n",
                "res = []\n",
                "for x in [False, True]:\n",
                "    model.two_step = x\n",
                "    model.entity_desc_dict = entities\n",
                "    acc, _ = aida_global(model)\n",
                "    res.append(acc)\n",
                "\n",
                "print(f\"Transformer GBRT\\nAccuracy\\t\\t{res[0]}\\nAccuracy (two-step)\\t{res[1]}\")"
            ]
        }
    ],
    "metadata": {
        "interpreter": {
            "hash": "d3c83394ae731fac5cbf34b5abe7ebcd59fb96b846f104eed2689aeb9dd8ae81"
        },
        "kernelspec": {
            "display_name": "Python 3 (ipykernel)",
            "language": "python",
            "name": "python3"
        },
        "language_info": {
            "codemirror_mode": {
                "name": "ipython",
                "version": 3
            },
            "file_extension": ".py",
            "mimetype": "text/x-python",
            "name": "python",
            "nbconvert_exporter": "python",
            "pygments_lexer": "ipython3",
            "version": "3.8.12"
        }
    },
    "nbformat": 4,
    "nbformat_minor": 4
}
