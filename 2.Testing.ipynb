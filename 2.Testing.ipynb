{
 "cells": [
  {
   "cell_type": "markdown",
   "metadata": {},
   "source": [
    "### Setup"
   ]
  },
  {
   "cell_type": "code",
   "execution_count": 1,
   "metadata": {},
   "outputs": [],
   "source": [
    "import gc\n",
    "import os\n",
    "import pandas as pd\n",
    "\n",
    "from src.base import Base\n",
    "from src.gbrt import GBRT\n",
    "from test import aida_global, aida_local\n",
    "\n",
    "EMB_PATH = os.path.join(os.getcwd(), 'embeddings')"
   ]
  },
  {
   "cell_type": "markdown",
   "metadata": {},
   "source": [
    "## Test Baseline Models"
   ]
  },
  {
   "cell_type": "code",
   "execution_count": 2,
   "metadata": {},
   "outputs": [
    {
     "name": "stderr",
     "output_type": "stream",
     "text": [
      "100%|██████████| 231/231 [01:16<00:00,  3.03it/s]\n",
      "100%|██████████| 231/231 [02:55<00:00,  1.32it/s]\n",
      "100%|██████████| 231/231 [01:17<00:00,  2.99it/s]\n",
      "100%|██████████| 231/231 [02:44<00:00,  1.41it/s]\n",
      "100%|██████████| 231/231 [01:12<00:00,  3.18it/s]\n",
      "100%|██████████| 231/231 [02:45<00:00,  1.39it/s]\n",
      "100%|██████████| 231/231 [01:19<00:00,  2.91it/s]\n",
      "100%|██████████| 231/231 [02:52<00:00,  1.34it/s]\n",
      "100%|██████████| 231/231 [01:00<00:00,  3.83it/s]\n",
      "100%|██████████| 231/231 [00:59<00:00,  3.89it/s]\n"
     ]
    },
    {
     "data": {
      "text/html": [
       "<div>\n",
       "<style scoped>\n",
       "    .dataframe tbody tr th:only-of-type {\n",
       "        vertical-align: middle;\n",
       "    }\n",
       "\n",
       "    .dataframe tbody tr th {\n",
       "        vertical-align: top;\n",
       "    }\n",
       "\n",
       "    .dataframe thead th {\n",
       "        text-align: right;\n",
       "    }\n",
       "</style>\n",
       "<table border=\"1\" class=\"dataframe\">\n",
       "  <thead>\n",
       "    <tr style=\"text-align: right;\">\n",
       "      <th></th>\n",
       "      <th>Embedding</th>\n",
       "      <th>Accuracy</th>\n",
       "      <th>Accuracy (Nouns Only)</th>\n",
       "    </tr>\n",
       "  </thead>\n",
       "  <tbody>\n",
       "    <tr>\n",
       "      <th>0</th>\n",
       "      <td>word2vec-google-news-300</td>\n",
       "      <td>50.334</td>\n",
       "      <td>50.757</td>\n",
       "    </tr>\n",
       "    <tr>\n",
       "      <th>1</th>\n",
       "      <td>glove-wiki-gigaword-300</td>\n",
       "      <td>38.930</td>\n",
       "      <td>26.892</td>\n",
       "    </tr>\n",
       "    <tr>\n",
       "      <th>2</th>\n",
       "      <td>fasttext-wiki-news-subwords-300</td>\n",
       "      <td>42.555</td>\n",
       "      <td>44.914</td>\n",
       "    </tr>\n",
       "    <tr>\n",
       "      <th>3</th>\n",
       "      <td>en.wiki.bpe.vs200000.d300.w2v</td>\n",
       "      <td>25.554</td>\n",
       "      <td>21.331</td>\n",
       "    </tr>\n",
       "    <tr>\n",
       "      <th>4</th>\n",
       "      <td>wiki2vec_w10_100d.pkl</td>\n",
       "      <td>65.153</td>\n",
       "      <td>61.211</td>\n",
       "    </tr>\n",
       "  </tbody>\n",
       "</table>\n",
       "</div>"
      ],
      "text/plain": [
       "                         Embedding  Accuracy  Accuracy (Nouns Only)\n",
       "0         word2vec-google-news-300    50.334                 50.757\n",
       "1          glove-wiki-gigaword-300    38.930                 26.892\n",
       "2  fasttext-wiki-news-subwords-300    42.555                 44.914\n",
       "3    en.wiki.bpe.vs200000.d300.w2v    25.554                 21.331\n",
       "4            wiki2vec_w10_100d.pkl    65.153                 61.211"
      ]
     },
     "execution_count": 2,
     "metadata": {},
     "output_type": "execute_result"
    }
   ],
   "source": [
    "embs = ['word2vec-google-news-300', 'glove-wiki-gigaword-300',\n",
    "        'fasttext-wiki-news-subwords-300', 'en.wiki.bpe.vs200000.d300.w2v',\n",
    "        'wiki2vec_w10_100d.pkl']\n",
    "\n",
    "results = []\n",
    "for emb in embs:\n",
    "    res = [emb]\n",
    "    model = Base(os.path.join(EMB_PATH, emb))\n",
    "    for filter in [False, True]:\n",
    "        model.nouns_only = filter\n",
    "        acc, _ = aida_local(model)\n",
    "        res.append(acc)\n",
    "    results.append(res)\n",
    "\n",
    "# Results\n",
    "pd.DataFrame(results, columns=['Embedding', 'Accuracy', 'Accuracy (Nouns Only)'])"
   ]
  },
  {
   "cell_type": "code",
   "execution_count": 3,
   "metadata": {},
   "outputs": [
    {
     "name": "stderr",
     "output_type": "stream",
     "text": [
      "100%|██████████| 231/231 [01:22<00:00,  2.80it/s]\n",
      "100%|██████████| 231/231 [01:21<00:00,  2.85it/s]\n",
      "100%|██████████| 231/231 [01:21<00:00,  2.84it/s]\n",
      "100%|██████████| 231/231 [01:22<00:00,  2.78it/s]\n",
      "100%|██████████| 231/231 [01:22<00:00,  2.81it/s]\n",
      "100%|██████████| 231/231 [01:22<00:00,  2.80it/s]\n",
      "100%|██████████| 231/231 [01:21<00:00,  2.85it/s]\n",
      "100%|██████████| 231/231 [01:23<00:00,  2.76it/s]\n",
      "100%|██████████| 231/231 [01:00<00:00,  3.84it/s]\n"
     ]
    },
    {
     "data": {
      "text/html": [
       "<div>\n",
       "<style scoped>\n",
       "    .dataframe tbody tr th:only-of-type {\n",
       "        vertical-align: middle;\n",
       "    }\n",
       "\n",
       "    .dataframe tbody tr th {\n",
       "        vertical-align: top;\n",
       "    }\n",
       "\n",
       "    .dataframe thead th {\n",
       "        text-align: right;\n",
       "    }\n",
       "</style>\n",
       "<table border=\"1\" class=\"dataframe\">\n",
       "  <thead>\n",
       "    <tr style=\"text-align: right;\">\n",
       "      <th></th>\n",
       "      <th>Embedding</th>\n",
       "      <th>Accuracy (cased)</th>\n",
       "      <th>Accuracy (uncased)</th>\n",
       "    </tr>\n",
       "  </thead>\n",
       "  <tbody>\n",
       "    <tr>\n",
       "      <th>0</th>\n",
       "      <td>word2vec-google-news-300</td>\n",
       "      <td>50.334</td>\n",
       "      <td>44.562</td>\n",
       "    </tr>\n",
       "    <tr>\n",
       "      <th>1</th>\n",
       "      <td>glove-wiki-gigaword-300</td>\n",
       "      <td>38.930</td>\n",
       "      <td>50.088</td>\n",
       "    </tr>\n",
       "    <tr>\n",
       "      <th>2</th>\n",
       "      <td>fasttext-wiki-news-subwords-300</td>\n",
       "      <td>42.555</td>\n",
       "      <td>41.711</td>\n",
       "    </tr>\n",
       "    <tr>\n",
       "      <th>3</th>\n",
       "      <td>en.wiki.bpe.vs200000.d300.w2v</td>\n",
       "      <td>25.554</td>\n",
       "      <td>41.922</td>\n",
       "    </tr>\n",
       "    <tr>\n",
       "      <th>4</th>\n",
       "      <td>wiki2vec_w10_100d</td>\n",
       "      <td>NaN</td>\n",
       "      <td>65.153</td>\n",
       "    </tr>\n",
       "  </tbody>\n",
       "</table>\n",
       "</div>"
      ],
      "text/plain": [
       "                         Embedding  Accuracy (cased)  Accuracy (uncased)\n",
       "0         word2vec-google-news-300            50.334              44.562\n",
       "1          glove-wiki-gigaword-300            38.930              50.088\n",
       "2  fasttext-wiki-news-subwords-300            42.555              41.711\n",
       "3    en.wiki.bpe.vs200000.d300.w2v            25.554              41.922\n",
       "4                wiki2vec_w10_100d               NaN              65.153"
      ]
     },
     "execution_count": 3,
     "metadata": {},
     "output_type": "execute_result"
    }
   ],
   "source": [
    "results = []\n",
    "for emb in embs[:-1]:\n",
    "    res = [emb]\n",
    "    model = Base(os.path.join(EMB_PATH, emb))\n",
    "    for case in [True, False]:\n",
    "        model.cased = case\n",
    "        acc, _ = aida_local(model)\n",
    "        res.append(acc)\n",
    "    results.append(res)\n",
    "\n",
    "# Wikipedia2Vec baseline\n",
    "acc, _ = aida_local(Base(os.path.join(EMB_PATH, \"wiki2vec_w10_100d.pkl\")))\n",
    "results.append(['wiki2vec_w10_100d', None, acc])\n",
    "\n",
    "# Results\n",
    "pd.DataFrame(results, columns=['Embedding', 'Accuracy (cased)', 'Accuracy (uncased)'])"
   ]
  },
  {
   "cell_type": "markdown",
   "metadata": {},
   "source": [
    "## Test GBRT (and it's variations)"
   ]
  },
  {
   "cell_type": "code",
   "execution_count": 4,
   "metadata": {},
   "outputs": [
    {
     "name": "stderr",
     "output_type": "stream",
     "text": [
      "100%|██████████| 231/231 [03:34<00:00,  1.08it/s]\n",
      "100%|██████████| 231/231 [03:45<00:00,  1.02it/s]\n",
      "100%|██████████| 231/231 [03:52<00:00,  1.01s/it]\n",
      "100%|██████████| 231/231 [03:58<00:00,  1.03s/it]\n",
      "100%|██████████| 231/231 [04:05<00:00,  1.06s/it]\n"
     ]
    },
    {
     "data": {
      "text/html": [
       "<div>\n",
       "<style scoped>\n",
       "    .dataframe tbody tr th:only-of-type {\n",
       "        vertical-align: middle;\n",
       "    }\n",
       "\n",
       "    .dataframe tbody tr th {\n",
       "        vertical-align: top;\n",
       "    }\n",
       "\n",
       "    .dataframe thead th {\n",
       "        text-align: right;\n",
       "    }\n",
       "</style>\n",
       "<table border=\"1\" class=\"dataframe\">\n",
       "  <thead>\n",
       "    <tr style=\"text-align: right;\">\n",
       "      <th></th>\n",
       "      <th>Model</th>\n",
       "      <th>Accuracy</th>\n",
       "    </tr>\n",
       "  </thead>\n",
       "  <tbody>\n",
       "    <tr>\n",
       "      <th>0</th>\n",
       "      <td>base</td>\n",
       "      <td>84.913</td>\n",
       "    </tr>\n",
       "    <tr>\n",
       "      <th>1</th>\n",
       "      <td>string_sim</td>\n",
       "      <td>86.893</td>\n",
       "    </tr>\n",
       "    <tr>\n",
       "      <th>2</th>\n",
       "      <td>context</td>\n",
       "      <td>89.601</td>\n",
       "    </tr>\n",
       "    <tr>\n",
       "      <th>3</th>\n",
       "      <td>coherence</td>\n",
       "      <td>92.737</td>\n",
       "    </tr>\n",
       "    <tr>\n",
       "      <th>4</th>\n",
       "      <td>coherence (two - step)</td>\n",
       "      <td>92.539</td>\n",
       "    </tr>\n",
       "  </tbody>\n",
       "</table>\n",
       "</div>"
      ],
      "text/plain": [
       "                    Model  Accuracy\n",
       "0                    base    84.913\n",
       "1              string_sim    86.893\n",
       "2                 context    89.601\n",
       "3               coherence    92.737\n",
       "4  coherence (two - step)    92.539"
      ]
     },
     "execution_count": 4,
     "metadata": {},
     "output_type": "execute_result"
    }
   ],
   "source": [
    "results = []\n",
    "pretrained = ['base.pkl', 'string_sim.pkl', 'context.pkl', 'coherence.pkl']\n",
    "for i in pretrained:\n",
    "    model = GBRT(os.path.join(EMB_PATH, \"wiki2vec_w10_100d.pkl\"), model_path=i)\n",
    "    acc, res = aida_global(model)\n",
    "    results.append([i[:-4], acc])\n",
    "\n",
    "model.two_step = True\n",
    "acc, res = aida_global(model)\n",
    "results.append([i[:-4] + ' (two - step)', acc])\n",
    "pd.DataFrame(results, columns=['Model', 'Accuracy'])"
   ]
  },
  {
   "cell_type": "code",
   "execution_count": 5,
   "metadata": {},
   "outputs": [
    {
     "name": "stderr",
     "output_type": "stream",
     "text": [
      "100%|██████████| 231/231 [04:48<00:00,  1.25s/it]\n",
      "100%|██████████| 231/231 [04:38<00:00,  1.21s/it]\n",
      "100%|██████████| 231/231 [06:44<00:00,  1.75s/it]\n",
      "100%|██████████| 231/231 [05:39<00:00,  1.47s/it]\n"
     ]
    },
    {
     "data": {
      "text/html": [
       "<div>\n",
       "<style scoped>\n",
       "    .dataframe tbody tr th:only-of-type {\n",
       "        vertical-align: middle;\n",
       "    }\n",
       "\n",
       "    .dataframe tbody tr th {\n",
       "        vertical-align: top;\n",
       "    }\n",
       "\n",
       "    .dataframe thead th {\n",
       "        text-align: right;\n",
       "    }\n",
       "</style>\n",
       "<table border=\"1\" class=\"dataframe\">\n",
       "  <thead>\n",
       "    <tr style=\"text-align: right;\">\n",
       "      <th></th>\n",
       "      <th>Model</th>\n",
       "      <th>Accuracy</th>\n",
       "    </tr>\n",
       "  </thead>\n",
       "  <tbody>\n",
       "    <tr>\n",
       "      <th>0</th>\n",
       "      <td>wiki2vec_w10_100d.pkl</td>\n",
       "      <td>92.506</td>\n",
       "    </tr>\n",
       "    <tr>\n",
       "      <th>1</th>\n",
       "      <td>wiki2vec_w10_300d.pkl</td>\n",
       "      <td>91.779</td>\n",
       "    </tr>\n",
       "    <tr>\n",
       "      <th>2</th>\n",
       "      <td>word2vec-google-news-300</td>\n",
       "      <td>91.746</td>\n",
       "    </tr>\n",
       "    <tr>\n",
       "      <th>3</th>\n",
       "      <td>glove-wiki-gigaword-300</td>\n",
       "      <td>91.383</td>\n",
       "    </tr>\n",
       "  </tbody>\n",
       "</table>\n",
       "</div>"
      ],
      "text/plain": [
       "                      Model  Accuracy\n",
       "0     wiki2vec_w10_100d.pkl    92.506\n",
       "1     wiki2vec_w10_300d.pkl    91.779\n",
       "2  word2vec-google-news-300    91.746\n",
       "3   glove-wiki-gigaword-300    91.383"
      ]
     },
     "execution_count": 5,
     "metadata": {},
     "output_type": "execute_result"
    }
   ],
   "source": [
    "embs = [f\"wiki2vec_w10_{i}d.pkl\" for i in [100, 300]]\n",
    "embs += ['word2vec-google-news-300', 'glove-wiki-gigaword-300']\n",
    "results = []\n",
    "for emb in embs:\n",
    "    model = GBRT(os.path.join(EMB_PATH, emb),\n",
    "                 model_path=f\"{emb}_trained.pkl\",\n",
    "                 cased='word2vec' in emb)\n",
    "    acc, _ = aida_global(model)\n",
    "    results.append([emb, acc])\n",
    "    model = None\n",
    "    gc.collect()\n",
    "\n",
    "pd.DataFrame(results, columns=['Model', 'Accuracy'])"
   ]
  }
 ],
 "metadata": {
  "interpreter": {
   "hash": "d3c83394ae731fac5cbf34b5abe7ebcd59fb96b846f104eed2689aeb9dd8ae81"
  },
  "kernelspec": {
   "display_name": "Python 3.8.12 64-bit ('NED-using-KG': conda)",
   "language": "python",
   "name": "python3"
  },
  "language_info": {
   "codemirror_mode": {
    "name": "ipython",
    "version": 3
   },
   "file_extension": ".py",
   "mimetype": "text/x-python",
   "name": "python",
   "nbconvert_exporter": "python",
   "pygments_lexer": "ipython3",
   "version": "3.8.12"
  },
  "orig_nbformat": 4
 },
 "nbformat": 4,
 "nbformat_minor": 2
}
