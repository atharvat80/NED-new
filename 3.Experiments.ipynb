{
 "cells": [
  {
   "cell_type": "code",
   "execution_count": 1,
   "metadata": {},
   "outputs": [],
   "source": [
    "import pandas as pd\n",
    "from tqdm.notebook import tqdm\n",
    "from src.utils import wikipedia_search, ddg_search, google_kb_search"
   ]
  },
  {
   "cell_type": "code",
   "execution_count": 2,
   "metadata": {},
   "outputs": [],
   "source": [
    "# Get all unique mentions and their tag\n",
    "mentions = []\n",
    "for doc in range(1, 1394):\n",
    "    df = pd.read_csv(f\"./data/aida/candidates/{doc}.csv\")\n",
    "    doc_mentions = df[['mention', 'tag']].drop_duplicates().to_numpy().tolist()\n",
    "    for i in doc_mentions:\n",
    "        if i not in mentions:\n",
    "            mentions.append(i)"
   ]
  },
  {
   "cell_type": "code",
   "execution_count": 3,
   "metadata": {},
   "outputs": [
    {
     "data": {
      "application/vnd.jupyter.widget-view+json": {
       "model_id": "b492471c3d6346e9bddfe11d43f2358e",
       "version_major": 2,
       "version_minor": 0
      },
      "text/plain": [
       "  0%|          | 0/6976 [00:00<?, ?it/s]"
      ]
     },
     "metadata": {},
     "output_type": "display_data"
    },
    {
     "name": "stdout",
     "output_type": "stream",
     "text": [
      "Error parsing Volkswagen AG\n",
      "Error parsing Opel AG\n",
      "Error parsing Sud-PTT\n",
      "Error parsing Oppenheimer Capital LP\n",
      "Error parsing World XI\n",
      "Error parsing Deutsche Lufthansa AG\n",
      "Error parsing Continental AG\n",
      "Error parsing Windows NT\n",
      "Error parsing Deutsche Bahn AG\n",
      "Error parsing Linzer ASK\n",
      "Error parsing Roda JC\n",
      "Error parsing World War II\n",
      "Error parsing Bertelsmann AG\n",
      "Error parsing CeBIT\n",
      "Error parsing Paris SG\n",
      "Error parsing Schering AG\n",
      "Error parsing Alexander III\n",
      "Error parsing Napoleon III\n",
      "Error parsing Volkswagen AG\n",
      "Error parsing Audi AG\n",
      "Error parsing Lenzing AG\n",
      "Error parsing Elizabeth I\n",
      "Error parsing Henry VIII\n",
      "Error parsing Charles VI\n",
      "Error parsing Pedro I\n",
      "Error parsing Baudouin I\n",
      "Error parsing Leopold III\n",
      "Error parsing Hamburger SV\n",
      "Error parsing Serie A\n",
      "Error parsing Austria I\n"
     ]
    }
   ],
   "source": [
    "google_kg_results = []\n",
    "ddg_results  = []\n",
    "wiki_results = []\n",
    "comb_results = []\n",
    "for mention, tag in tqdm(mentions):\n",
    "    d_res = ddg_search(mention)\n",
    "    w_res = wikipedia_search(mention, limit=50)\n",
    "    g_res = google_kb_search(mention, limit=50)\n",
    "    c_res = list(dict.fromkeys(d_res + w_res + g_res))\n",
    "    if tag in d_res:\n",
    "        ddg_results.append(d_res.index(tag) + 1)\n",
    "    if tag in w_res:\n",
    "        wiki_results.append(w_res.index(tag) + 1)\n",
    "    if tag in g_res:\n",
    "        google_kg_results.append(g_res.index(tag) + 1)\n",
    "    if tag in c_res:\n",
    "        comb_results.append(c_res.index(tag) + 1)"
   ]
  },
  {
   "cell_type": "code",
   "execution_count": 5,
   "metadata": {},
   "outputs": [
    {
     "name": "stdout",
     "output_type": "stream",
     "text": [
      "Google KG  : 78.83\tavg pos: 2.3195126386615748\n",
      "Wikipedia  : 82.24000000000001\tavg pos: 2.3561094648771133\n",
      "DuckDuckGo : 77.14\tavg pos: 8.15108715852072\n",
      "Combined   : 90.42\tavg pos: 10.57863031071655\n"
     ]
    }
   ],
   "source": [
    "avg = lambda x : sum(x)/len(x)\n",
    "acc = lambda x : round(len(x)/len(mentions), 4) * 100\n",
    "\n",
    "print(f\"Google KG  : {acc(google_kg_results)}\\tavg pos: {avg(google_kg_results)}\")\n",
    "print(f\"Wikipedia  : {acc(wiki_results)     }\\tavg pos: {avg(wiki_results)     }\")\n",
    "print(f\"DuckDuckGo : {acc(ddg_results)      }\\tavg pos: {avg(ddg_results)      }\")\n",
    "print(f\"Combined   : {acc(comb_results)     }\\tavg pos: {avg(comb_results)     }\")"
   ]
  }
 ],
 "metadata": {
  "interpreter": {
   "hash": "45de09fcf3bd2b79f524a4bd8f7de9946892c46adb40c2fbf980884cdce71d86"
  },
  "kernelspec": {
   "display_name": "Python 3.8.12 ('NED')",
   "language": "python",
   "name": "python3"
  },
  "language_info": {
   "codemirror_mode": {
    "name": "ipython",
    "version": 3
   },
   "file_extension": ".py",
   "mimetype": "text/x-python",
   "name": "python",
   "nbconvert_exporter": "python",
   "pygments_lexer": "ipython3",
   "version": "3.8.12"
  },
  "orig_nbformat": 4
 },
 "nbformat": 4,
 "nbformat_minor": 2
}
