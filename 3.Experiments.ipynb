{
 "cells": [
  {
   "cell_type": "code",
   "execution_count": 1,
   "metadata": {},
   "outputs": [],
   "source": [
    "import pandas as pd\n",
    "from tqdm.notebook import tqdm\n",
    "from src.utils import wikipedia_search, ddg_search"
   ]
  },
  {
   "cell_type": "code",
   "execution_count": 2,
   "metadata": {},
   "outputs": [],
   "source": [
    "# Get all unique mentions and their tag\n",
    "mentions = []\n",
    "for doc in range(1, 1394):\n",
    "    df = pd.read_csv(f\"./data/aida/candidates/{doc}.csv\")\n",
    "    doc_mentions = df[['mention', 'tag']].drop_duplicates().to_numpy().tolist()\n",
    "    for i in doc_mentions:\n",
    "        if i not in mentions:\n",
    "            mentions.append(i)"
   ]
  },
  {
   "cell_type": "code",
   "execution_count": 3,
   "metadata": {},
   "outputs": [],
   "source": [
    "ddg_results = []\n",
    "wiki_results = []\n",
    "comb_results = []\n",
    "for mention, tag in tqdm(mentions):\n",
    "    d_res = ddg_search(mention)\n",
    "    w_res = wikipedia_search(mention, num_results=10)\n",
    "    c_res = list(dict.fromkeys(d_res + w_res))\n",
    "    if tag in d_res:\n",
    "        ddg_results.append(d_res.index(tag) + 1)\n",
    "    if tag in w_res:\n",
    "        wiki_results.append(w_res.index(tag) + 1)\n",
    "    if tag in c_res:\n",
    "        comb_results.append(c_res.index(tag) + 1)"
   ]
  },
  {
   "cell_type": "code",
   "execution_count": 6,
   "metadata": {},
   "outputs": [
    {
     "name": "stdout",
     "output_type": "stream",
     "text": [
      "Wikipedia  : 78.971\tavg pos: 1.514067888909058\n",
      "DuckDuckGo : 77.107\tavg pos: 8.108198549916342\n",
      "Combined   : 85.938\tavg pos: 8.721934945788156\n"
     ]
    }
   ],
   "source": [
    "print(f\"Wikipedia  : {round(len(wiki_results)/len(mentions), 5) * 100}\\tavg pos: {sum(wiki_results)/len(wiki_results)}\")\n",
    "print(f\"DuckDuckGo : {round(len(ddg_results)/len(mentions), 5) * 100}\\tavg pos: {sum(ddg_results)/len(ddg_results)}\")\n",
    "print(f\"Combined   : {round(len(comb_results)/len(mentions), 5) * 100}\\tavg pos: {sum(comb_results)/len(comb_results)}\")"
   ]
  }
 ],
 "metadata": {
  "interpreter": {
   "hash": "45de09fcf3bd2b79f524a4bd8f7de9946892c46adb40c2fbf980884cdce71d86"
  },
  "kernelspec": {
   "display_name": "Python 3.8.12 ('NED')",
   "language": "python",
   "name": "python3"
  },
  "language_info": {
   "codemirror_mode": {
    "name": "ipython",
    "version": 3
   },
   "file_extension": ".py",
   "mimetype": "text/x-python",
   "name": "python",
   "nbconvert_exporter": "python",
   "pygments_lexer": "ipython3",
   "version": "3.8.12"
  },
  "orig_nbformat": 4
 },
 "nbformat": 4,
 "nbformat_minor": 2
}
